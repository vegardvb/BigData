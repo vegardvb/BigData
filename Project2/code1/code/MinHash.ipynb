{
 "cells": [
  {
   "cell_type": "code",
   "execution_count": 5,
   "id": "afe94871",
   "metadata": {},
   "outputs": [],
   "source": [
    "import numpy as np\n",
    "import hashlib"
   ]
  },
  {
   "cell_type": "markdown",
   "id": "6e4f5bf9",
   "metadata": {},
   "source": [
    "Name A: \n",
    "\n",
    "Name B: "
   ]
  },
  {
   "cell_type": "code",
   "execution_count": 6,
   "id": "42d4a72d",
   "metadata": {},
   "outputs": [],
   "source": [
    "#Four (4) 'relevant' TDT4305 sentences\n",
    "\n",
    "Sentence_1 = \"The Big Data platform for students is Blackboard\"\n",
    "Sentence_2 = \"Questions on MinHash project by NTNU students is on Piazza\"\n",
    "Sentence_3 = \"NTNU Big Data platform are Blackboard and Piazza\"\n",
    "Sentence_4 = \"The project data for students are on Blackboard not Piazza\""
   ]
  },
  {
   "cell_type": "code",
   "execution_count": 7,
   "id": "f619be36",
   "metadata": {},
   "outputs": [],
   "source": [
    "unique_words = [] # Enter the unique words list here"
   ]
  },
  {
   "cell_type": "code",
   "execution_count": null,
   "id": "e633fa9c",
   "metadata": {},
   "outputs": [],
   "source": [
    "# User input\n",
    "\n",
    "print(f\"Format: ['word', 'word', 'word' ...] & watch out for white spaces before comma\")\n",
    "user_input = str(input(\"Enter your created list of unique words: \")) \n",
    "\n",
    "f = open(\"encrypted_dictionary.txt\", \"r\")\n",
    "encrypted_words = f.read()\n",
    "\n",
    "\n",
    "# Hash the user input\n",
    "hashed_user_input = hashlib.sha256(user_input.encode()).hexdigest()\n",
    "\n",
    "# Compare with the stored hash\n",
    "if hashed_user_input == encrypted_words:\n",
    "    print(\"Correct! Your dictionary matched!\")\n",
    "else:\n",
    "    print(\"Incorrect! Try again.\")"
   ]
  },
  {
   "cell_type": "code",
   "execution_count": 27,
   "id": "0b10d096",
   "metadata": {},
   "outputs": [
    {
     "data": {
      "text/plain": [
       "array([[0., 0., 0., 0.],\n",
       "       [0., 0., 0., 0.],\n",
       "       [0., 0., 0., 0.],\n",
       "       [0., 0., 0., 0.],\n",
       "       [0., 0., 0., 0.],\n",
       "       [0., 0., 0., 0.],\n",
       "       [0., 0., 0., 0.],\n",
       "       [0., 0., 0., 0.],\n",
       "       [0., 0., 0., 0.],\n",
       "       [0., 0., 0., 0.]])"
      ]
     },
     "execution_count": 27,
     "metadata": {},
     "output_type": "execute_result"
    }
   ],
   "source": [
    "Input_Matrix = [] # Create an empty array of input matrix"
   ]
  },
  {
   "cell_type": "code",
   "execution_count": 10,
   "id": "8b7267f5",
   "metadata": {},
   "outputs": [],
   "source": [
    "## Compute the values for the input matrix here ##"
   ]
  },
  {
   "cell_type": "code",
   "execution_count": 31,
   "id": "acf3c3dd",
   "metadata": {},
   "outputs": [
    {
     "data": {
      "text/plain": [
       "array([[inf, inf, inf, inf],\n",
       "       [inf, inf, inf, inf],\n",
       "       [inf, inf, inf, inf]])"
      ]
     },
     "execution_count": 31,
     "metadata": {},
     "output_type": "execute_result"
    }
   ],
   "source": [
    "Sig_M = [] # Create a MinHash signature matrix array with inf values"
   ]
  },
  {
   "cell_type": "code",
   "execution_count": 11,
   "id": "145bfafc",
   "metadata": {},
   "outputs": [],
   "source": [
    "# Generate hash functions"
   ]
  },
  {
   "cell_type": "code",
   "execution_count": 32,
   "id": "3f799a86",
   "metadata": {},
   "outputs": [],
   "source": [
    "hash_1 = []"
   ]
  },
  {
   "cell_type": "code",
   "execution_count": 33,
   "id": "0f0195cc",
   "metadata": {},
   "outputs": [],
   "source": [
    "hash_2 = []"
   ]
  },
  {
   "cell_type": "code",
   "execution_count": 34,
   "id": "4a3c8256",
   "metadata": {},
   "outputs": [],
   "source": [
    "hash_3 = []"
   ]
  },
  {
   "cell_type": "code",
   "execution_count": 35,
   "id": "e854ba69",
   "metadata": {},
   "outputs": [],
   "source": [
    "hash_list = [hash_1, hash_2, hash_3]"
   ]
  },
  {
   "cell_type": "code",
   "execution_count": 36,
   "id": "06ed6049",
   "metadata": {},
   "outputs": [
    {
     "data": {
      "text/plain": [
       "[<function __main__.<lambda>(x, a=1, b=3)>,\n",
       " <function __main__.<lambda>(x, a=7, b=1)>,\n",
       " <function __main__.<lambda>(x, a=7, b=2)>]"
      ]
     },
     "execution_count": 36,
     "metadata": {},
     "output_type": "execute_result"
    }
   ],
   "source": [
    "hash_list"
   ]
  },
  {
   "cell_type": "code",
   "execution_count": 12,
   "id": "a6218bf7",
   "metadata": {},
   "outputs": [],
   "source": [
    "## Using the hash functions and the input matrix compute the MinHash signature matrix here ##"
   ]
  },
  {
   "cell_type": "code",
   "execution_count": null,
   "id": "56c9d088",
   "metadata": {},
   "outputs": [],
   "source": [
    "# print the updated MinHash signature matrix\n",
    "\n",
    "Sig_M"
   ]
  }
 ],
 "metadata": {
  "kernelspec": {
   "display_name": "Python 3 (ipykernel)",
   "language": "python",
   "name": "python3"
  },
  "language_info": {
   "codemirror_mode": {
    "name": "ipython",
    "version": 3
   },
   "file_extension": ".py",
   "mimetype": "text/x-python",
   "name": "python",
   "nbconvert_exporter": "python",
   "pygments_lexer": "ipython3",
   "version": "3.10.12"
  }
 },
 "nbformat": 4,
 "nbformat_minor": 5
}
