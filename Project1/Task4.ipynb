{
 "cells": [
  {
   "cell_type": "markdown",
   "metadata": {
    "application/vnd.databricks.v1+cell": {
     "cellMetadata": {
      "byteLimit": 2048000,
      "rowLimit": 10000
     },
     "inputWidgets": {},
     "nuid": "bbe62928-01d3-402d-9e45-19d009a4639d",
     "showTitle": false,
     "title": ""
    }
   },
   "source": [
    "#### Names of people in the group\n",
    "\n",
    "Please write the names of the people in your group in the next cell."
   ]
  },
  {
   "cell_type": "markdown",
   "metadata": {
    "application/vnd.databricks.v1+cell": {
     "cellMetadata": {
      "byteLimit": 2048000,
      "rowLimit": 10000
     },
     "inputWidgets": {},
     "nuid": "15e1606f-bbea-4e98-9f90-bf0a15da5391",
     "showTitle": false,
     "title": ""
    }
   },
   "source": [
    "Name of person A Vegard Vaeng Bernhardsen\n",
    "\n",
    "Name of person B None"
   ]
  },
  {
   "cell_type": "code",
   "execution_count": 0,
   "metadata": {
    "application/vnd.databricks.v1+cell": {
     "cellMetadata": {
      "byteLimit": 2048000,
      "rowLimit": 10000
     },
     "inputWidgets": {},
     "nuid": "389ff132-7e3c-444e-a980-6490e3448153",
     "showTitle": false,
     "title": ""
    }
   },
   "outputs": [],
   "source": [
    "# Loading modules that we need\n",
    "from pyspark.sql.session import SparkSession\n",
    "from pyspark.sql.types import *\n",
    "from pyspark.sql.functions import *\n",
    "\n",
    "# Add your imports below this line"
   ]
  },
  {
   "cell_type": "code",
   "execution_count": 0,
   "metadata": {
    "application/vnd.databricks.v1+cell": {
     "cellMetadata": {
      "byteLimit": 2048000,
      "rowLimit": 10000
     },
     "inputWidgets": {},
     "nuid": "1b384d61-f63a-4c3f-9d87-63e0427c5ecd",
     "showTitle": false,
     "title": ""
    }
   },
   "outputs": [],
   "source": [
    "# A helper function to load a table (stored in Parquet format) from DBFS as a Spark DataFrame \n",
    "def load_df(table_name: \"name of the table to load\") -> DataFrame:\n",
    "    return spark.read.parquet(table_name)\n",
    "\n",
    "users_df = load_df(\"/user/hive/warehouse/users\")\n",
    "posts_df = load_df(\"/user/hive/warehouse/posts\")\n",
    "\n",
    "# Uncomment if you need\n",
    "# comments_df = load_df(\"/user/hive/warehouse/comments\")\n",
    "# badges_df = load_df(\"/user/hive/warehouse/badges\")"
   ]
  },
  {
   "cell_type": "markdown",
   "metadata": {
    "application/vnd.databricks.v1+cell": {
     "cellMetadata": {
      "byteLimit": 2048000,
      "rowLimit": 10000
     },
     "inputWidgets": {},
     "nuid": "e9b9e457-0510-45fb-8a13-85c006247f0c",
     "showTitle": false,
     "title": ""
    }
   },
   "source": [
    "#### The Problem: Mining the Interests of Experts"
   ]
  },
  {
   "cell_type": "code",
   "execution_count": 0,
   "metadata": {
    "application/vnd.databricks.v1+cell": {
     "cellMetadata": {
      "byteLimit": 2048000,
      "rowLimit": 10000
     },
     "inputWidgets": {},
     "nuid": "951d180f-ed78-4cf1-bfc4-4b8bf85b8700",
     "showTitle": false,
     "title": ""
    }
   },
   "outputs": [
    {
     "output_type": "stream",
     "name": "stdout",
     "output_type": "stream",
     "text": [
      "Pearson Correlation Coefficient: 0.7534664108553488\n"
     ]
    }
   ],
   "source": [
    "answers_df = posts_df.filter(posts_df.PostTypeId == 2)\n",
    "\n",
    "user_answers_df = answers_df.join(users_df, answers_df.OwnerUserId == users_df.Id)\n",
    "\n",
    "questions_df = posts_df.filter(posts_df.PostTypeId == 1).selectExpr(\"Id as QuestionId\", \"Tags as QuestionTags\")\n",
    "\n",
    "# Join to get tags of questions answered by users\n",
    "user_tags_df = user_answers_df.join(questions_df, user_answers_df.ParentId == questions_df.QuestionId)\n",
    "\n",
    "user_tags_df = user_tags_df.withColumn(\"ExplodedTag\", explode(split(col(\"QuestionTags\"), \"><\")))\n",
    "\n",
    "# Compute interest diversity by counting distinct ExplodedTag per user, normalized by total unique tags (638)\n",
    "user_interest_diversity = user_tags_df.groupBy(\"OwnerUserId\").agg((countDistinct(\"ExplodedTag\") / 638).alias(\"InterestDiversity\"))\n",
    "\n",
    "\n",
    "\n",
    "final_df = users_df.join(user_interest_diversity, users_df.Id == user_interest_diversity.OwnerUserId)\n",
    "\n",
    "# Calculate Pearson correlation coefficient\n",
    "correlation = final_df.stat.corr(\"Reputation\", \"InterestDiversity\")\n",
    "print(f\"Pearson Correlation Coefficient: {correlation}\")\n"
   ]
  },
  {
   "cell_type": "code",
   "execution_count": 0,
   "metadata": {
    "application/vnd.databricks.v1+cell": {
     "cellMetadata": {
      "byteLimit": 2048000,
      "rowLimit": 10000
     },
     "inputWidgets": {},
     "nuid": "d4a00cef-c76b-485f-8ee7-eb7947f62bd0",
     "showTitle": false,
     "title": ""
    }
   },
   "outputs": [
    {
     "output_type": "stream",
     "name": "stdout",
     "output_type": "stream",
     "text": [
      "Given the Pearson Correlation Coefficient of 0.753, I think there is a strong positive linear relationship between a user's expertise level, indicated by their reputation, and their diversity of interest. Which is measured by the diversity of tags associated with the questions they have answered. I think this means users with a high reputation, or experts, might have general interests rather than spesific ones.\n"
     ]
    }
   ],
   "source": [
    "print(\"\"\"Given the Pearson Correlation Coefficient of 0.753, I think there is a strong positive linear relationship between a user's expertise level, indicated by their reputation, and their diversity of interest. Which is measured by the diversity of tags associated with the questions they have answered. I think this means users with a high reputation, or experts, might have general interests rather than spesific ones.\"\"\")"
   ]
  }
 ],
 "metadata": {
  "application/vnd.databricks.v1+notebook": {
   "dashboards": [],
   "language": "python",
   "notebookMetadata": {
    "pythonIndentUnit": 2
   },
   "notebookName": "Task4",
   "widgets": {}
  },
  "kernelspec": {
   "display_name": "Python 3 (ipykernel)",
   "language": "python",
   "name": "python3"
  },
  "language_info": {
   "codemirror_mode": {
    "name": "ipython",
    "version": 3
   },
   "file_extension": ".py",
   "mimetype": "text/x-python",
   "name": "python",
   "nbconvert_exporter": "python",
   "pygments_lexer": "ipython3",
   "version": "3.10.12"
  }
 },
 "nbformat": 4,
 "nbformat_minor": 0
}
